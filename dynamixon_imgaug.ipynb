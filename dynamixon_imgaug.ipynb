{
 "cells": [
  {
   "cell_type": "code",
   "execution_count": 4,
   "metadata": {},
   "outputs": [],
   "source": [
    "#import imgaug library\n",
    "from imgaug import augmenters as iaa\n",
    "#color space augmenter\n",
    "## upscale in saturation and exposure\n",
    "aug_HSV_upscale = iaa.WithColorspace(to_colorspace=\"HSV\", from_colorspace=\"RGB\", children=[iaa.WithChannels(0, iaa.Add((-25,25))),iaa.WithChannels([1,2],iaa.Multiply((1,1.5)))])\n",
    "## downscale in saturation and exposure\n",
    "aug_HSV_downscale = iaa.WithColorspace(to_colorspace=\"HSV\", from_colorspace=\"RGB\", children=[iaa.WithChannels(0, iaa.Add((-25,25))),iaa.WithChannels([1,2],iaa.Multiply((2/3,1)))])"
   ]
  },
  {
   "cell_type": "markdown",
   "metadata": {},
   "source": [
    "Below are the augmenter objects.\n",
    "Please select one based on the phase"
   ]
  },
  {
   "cell_type": "code",
   "execution_count": 10,
   "metadata": {},
   "outputs": [],
   "source": [
    "# prepare augmenters \n",
    "# call outside of the training iteration\n",
    "#crop only\n",
    "aug_crop = iaa.Sequential([iaa.CropToFixedSize(width=320,height=320,position='uniform')])\n",
    "#rotation then crop\n",
    "aug_crop_and_rot = iaa.Sequential([iaa.Affine(rotate=(5,45)),iaa.CropToFixedSize(width=320,height=320,position='uniform')])\n",
    "#rotation, scale then crop\n",
    "aug_scale_and_crop = iaa.Sequential([iaa.Affine(rotate=(5,45),scale = {'x':(.8,1.2),'y':(.8,1.2)}),iaa.CropToFixedSize(width=320,height=320,position='uniform')])\n",
    "#color space augmentation, rotation, scale then crop\n",
    "aug_HSV_scale_and_crop = iaa.Sequential([iaa.OneOf([aug_HSV_upscale,aug_HSV_downscale]),iaa.Affine(rotate=(5,45),scale = {'x':(.8,1.2),'y':(.8,1.2)}),iaa.CropToFixedSize(width=320,height=320,position='uniform')])"
   ]
  },
  {
   "cell_type": "markdown",
   "metadata": {},
   "source": [
    "Call below chunk within each iteration"
   ]
  },
  {
   "cell_type": "code",
   "execution_count": 3,
   "metadata": {},
   "outputs": [],
   "source": [
    "#convert sequence to deterministic only call this per batch\n",
    "aug_det = aug_crop.to_deterministic()\n",
    "#augment images\n",
    "aug_crop.augment_images(images_in_batch)\n",
    "#augment bounding boxes\n",
    "aug_crop.augment_bounding_boxes(boxes_in_batch)\n",
    "#augment segmentation maps\n",
    "aug_crop.augment_segmentation_maps(seg_map_in_batch)"
   ]
  }
 ],
 "metadata": {
  "kernelspec": {
   "display_name": "Python 3",
   "language": "python",
   "name": "python3"
  },
  "language_info": {
   "codemirror_mode": {
    "name": "ipython",
    "version": 3
   },
   "file_extension": ".py",
   "mimetype": "text/x-python",
   "name": "python",
   "nbconvert_exporter": "python",
   "pygments_lexer": "ipython3",
   "version": "3.6.6"
  }
 },
 "nbformat": 4,
 "nbformat_minor": 2
}
